{
 "cells": [
  {
   "cell_type": "markdown",
   "id": "ae3014a4",
   "metadata": {},
   "source": [
    "### Installation"
   ]
  },
  {
   "cell_type": "code",
   "execution_count": 2,
   "id": "4a108f65",
   "metadata": {
    "collapsed": true
   },
   "outputs": [
    {
     "name": "stdout",
     "output_type": "stream",
     "text": [
      "Collecting synmax-api-python-client\n",
      "  Downloading synmax_api_python_client-0.0.18-py3-none-any.whl (28 kB)\n",
      "Requirement already satisfied: urllib3 in c:\\users\\techt\\anaconda3\\lib\\site-packages (from synmax-api-python-client) (1.26.9)\n",
      "Requirement already satisfied: requests in c:\\users\\techt\\anaconda3\\lib\\site-packages (from synmax-api-python-client) (2.27.1)\n",
      "Requirement already satisfied: charset-normalizer~=2.0.0 in c:\\users\\techt\\anaconda3\\lib\\site-packages (from requests->synmax-api-python-client) (2.0.4)\n",
      "Requirement already satisfied: certifi>=2017.4.17 in c:\\users\\techt\\anaconda3\\lib\\site-packages (from requests->synmax-api-python-client) (2021.10.8)\n",
      "Requirement already satisfied: idna<4,>=2.5 in c:\\users\\techt\\anaconda3\\lib\\site-packages (from requests->synmax-api-python-client) (3.3)\n",
      "Installing collected packages: synmax-api-python-client\n",
      "Successfully installed synmax-api-python-client-0.0.18\n"
     ]
    }
   ],
   "source": [
    "!pip install --upgrade synmax-api-python-client"
   ]
  },
  {
   "cell_type": "code",
   "execution_count": 3,
   "id": "4a542f19",
   "metadata": {
    "collapsed": true
   },
   "outputs": [
    {
     "name": "stdout",
     "output_type": "stream",
     "text": [
      "Requirement already satisfied: wheel in c:\\users\\techt\\anaconda3\\lib\\site-packages (0.37.1)\n",
      "Requirement already satisfied: pandas in c:\\users\\techt\\anaconda3\\lib\\site-packages (1.4.2)\n",
      "Requirement already satisfied: tqdm in c:\\users\\techt\\anaconda3\\lib\\site-packages (4.64.0)\n",
      "Requirement already satisfied: numpy>=1.18.5 in c:\\users\\techt\\anaconda3\\lib\\site-packages (from pandas) (1.21.5)\n",
      "Requirement already satisfied: python-dateutil>=2.8.1 in c:\\users\\techt\\anaconda3\\lib\\site-packages (from pandas) (2.8.2)\n",
      "Requirement already satisfied: pytz>=2020.1 in c:\\users\\techt\\anaconda3\\lib\\site-packages (from pandas) (2021.3)\n",
      "Requirement already satisfied: colorama in c:\\users\\techt\\anaconda3\\lib\\site-packages (from tqdm) (0.4.4)\n",
      "Requirement already satisfied: six>=1.5 in c:\\users\\techt\\anaconda3\\lib\\site-packages (from python-dateutil>=2.8.1->pandas) (1.16.0)\n"
     ]
    }
   ],
   "source": [
    "!pip install wheel pandas tqdm"
   ]
  },
  {
   "cell_type": "markdown",
   "id": "209d2862",
   "metadata": {},
   "source": [
    "### Import necessary code & libraries"
   ]
  },
  {
   "cell_type": "code",
   "execution_count": 17,
   "id": "284fa503",
   "metadata": {},
   "outputs": [],
   "source": [
    "import os\n",
    "from synmax.hyperion import HyperionApiClient, ApiPayload"
   ]
  },
  {
   "cell_type": "markdown",
   "id": "c359f9db",
   "metadata": {},
   "source": [
    "### Set up an API client"
   ]
  },
  {
   "cell_type": "code",
   "execution_count": 18,
   "id": "7ff5a56b",
   "metadata": {},
   "outputs": [],
   "source": [
    "client = HyperionApiClient(access_token=os.environ['SYNMAX_API_KEY'])"
   ]
  },
  {
   "cell_type": "markdown",
   "id": "94b47085",
   "metadata": {},
   "source": [
    "### Test out client functionality"
   ]
  },
  {
   "cell_type": "markdown",
   "id": "e6f1262d",
   "metadata": {},
   "source": [
    "##### /regions"
   ]
  },
  {
   "cell_type": "code",
   "execution_count": 19,
   "id": "15aaf8ee",
   "metadata": {},
   "outputs": [
    {
     "name": "stderr",
     "output_type": "stream",
     "text": [
      "INFO:synmax.common.api_client:https://hyperion.api.synmax.com//regions\n"
     ]
    },
    {
     "data": {
      "text/html": [
       "<div>\n",
       "<style scoped>\n",
       "    .dataframe tbody tr th:only-of-type {\n",
       "        vertical-align: middle;\n",
       "    }\n",
       "\n",
       "    .dataframe tbody tr th {\n",
       "        vertical-align: top;\n",
       "    }\n",
       "\n",
       "    .dataframe thead th {\n",
       "        text-align: right;\n",
       "    }\n",
       "</style>\n",
       "<table border=\"1\" class=\"dataframe\">\n",
       "  <thead>\n",
       "    <tr style=\"text-align: right;\">\n",
       "      <th></th>\n",
       "      <th>county</th>\n",
       "      <th>region</th>\n",
       "      <th>state_ab</th>\n",
       "      <th>sub_region</th>\n",
       "    </tr>\n",
       "  </thead>\n",
       "  <tbody>\n",
       "    <tr>\n",
       "      <th>0</th>\n",
       "      <td>BIENVILLE</td>\n",
       "      <td>gulf</td>\n",
       "      <td>LA</td>\n",
       "      <td>Haynesville - LA</td>\n",
       "    </tr>\n",
       "    <tr>\n",
       "      <th>1</th>\n",
       "      <td>BOSSIER</td>\n",
       "      <td>gulf</td>\n",
       "      <td>LA</td>\n",
       "      <td>Haynesville - LA</td>\n",
       "    </tr>\n",
       "    <tr>\n",
       "      <th>2</th>\n",
       "      <td>CADDO</td>\n",
       "      <td>gulf</td>\n",
       "      <td>LA</td>\n",
       "      <td>Haynesville - LA</td>\n",
       "    </tr>\n",
       "    <tr>\n",
       "      <th>3</th>\n",
       "      <td>CLAIBORNE</td>\n",
       "      <td>gulf</td>\n",
       "      <td>LA</td>\n",
       "      <td>Haynesville - LA</td>\n",
       "    </tr>\n",
       "    <tr>\n",
       "      <th>4</th>\n",
       "      <td>DE SOTO</td>\n",
       "      <td>gulf</td>\n",
       "      <td>LA</td>\n",
       "      <td>Haynesville - LA</td>\n",
       "    </tr>\n",
       "  </tbody>\n",
       "</table>\n",
       "</div>"
      ],
      "text/plain": [
       "      county region state_ab        sub_region\n",
       "0  BIENVILLE   gulf       LA  Haynesville - LA\n",
       "1    BOSSIER   gulf       LA  Haynesville - LA\n",
       "2      CADDO   gulf       LA  Haynesville - LA\n",
       "3  CLAIBORNE   gulf       LA  Haynesville - LA\n",
       "4    DE SOTO   gulf       LA  Haynesville - LA"
      ]
     },
     "execution_count": 19,
     "metadata": {},
     "output_type": "execute_result"
    }
   ],
   "source": [
    "# to fetch region data:\n",
    "region_df = client.fetch_regions()\n",
    "region_df.head()\n"
   ]
  },
  {
   "cell_type": "code",
   "execution_count": 20,
   "id": "e1867a07",
   "metadata": {},
   "outputs": [
    {
     "data": {
      "text/html": [
       "<div>\n",
       "<style scoped>\n",
       "    .dataframe tbody tr th:only-of-type {\n",
       "        vertical-align: middle;\n",
       "    }\n",
       "\n",
       "    .dataframe tbody tr th {\n",
       "        vertical-align: top;\n",
       "    }\n",
       "\n",
       "    .dataframe thead th {\n",
       "        text-align: right;\n",
       "    }\n",
       "</style>\n",
       "<table border=\"1\" class=\"dataframe\">\n",
       "  <thead>\n",
       "    <tr style=\"text-align: right;\">\n",
       "      <th></th>\n",
       "      <th>county</th>\n",
       "      <th>region</th>\n",
       "      <th>state_ab</th>\n",
       "      <th>sub_region</th>\n",
       "    </tr>\n",
       "  </thead>\n",
       "  <tbody>\n",
       "    <tr>\n",
       "      <th>113</th>\n",
       "      <td>ANDERSON</td>\n",
       "      <td>gulf</td>\n",
       "      <td>TX</td>\n",
       "      <td>Haynesville - TX</td>\n",
       "    </tr>\n",
       "    <tr>\n",
       "      <th>114</th>\n",
       "      <td>ANDREWS</td>\n",
       "      <td>gulf</td>\n",
       "      <td>TX</td>\n",
       "      <td>West - TX</td>\n",
       "    </tr>\n",
       "    <tr>\n",
       "      <th>115</th>\n",
       "      <td>ANGELINA</td>\n",
       "      <td>gulf</td>\n",
       "      <td>TX</td>\n",
       "      <td>Haynesville - TX</td>\n",
       "    </tr>\n",
       "    <tr>\n",
       "      <th>116</th>\n",
       "      <td>ARANSAS</td>\n",
       "      <td>gulf</td>\n",
       "      <td>TX</td>\n",
       "      <td>South - TX</td>\n",
       "    </tr>\n",
       "    <tr>\n",
       "      <th>117</th>\n",
       "      <td>ARCHER</td>\n",
       "      <td>gulf</td>\n",
       "      <td>TX</td>\n",
       "      <td>Central - TX</td>\n",
       "    </tr>\n",
       "    <tr>\n",
       "      <th>...</th>\n",
       "      <td>...</td>\n",
       "      <td>...</td>\n",
       "      <td>...</td>\n",
       "      <td>...</td>\n",
       "    </tr>\n",
       "    <tr>\n",
       "      <th>2237</th>\n",
       "      <td>MUSTANG IS-LB</td>\n",
       "      <td>gulf</td>\n",
       "      <td>TX</td>\n",
       "      <td>South - TX</td>\n",
       "    </tr>\n",
       "    <tr>\n",
       "      <th>2238</th>\n",
       "      <td>MUSTANG IS-SB</td>\n",
       "      <td>gulf</td>\n",
       "      <td>TX</td>\n",
       "      <td>South - TX</td>\n",
       "    </tr>\n",
       "    <tr>\n",
       "      <th>2239</th>\n",
       "      <td>N PADRE IS-LB</td>\n",
       "      <td>gulf</td>\n",
       "      <td>TX</td>\n",
       "      <td>South - TX</td>\n",
       "    </tr>\n",
       "    <tr>\n",
       "      <th>2240</th>\n",
       "      <td>S PADRE IS-LB</td>\n",
       "      <td>gulf</td>\n",
       "      <td>TX</td>\n",
       "      <td>South - TX</td>\n",
       "    </tr>\n",
       "    <tr>\n",
       "      <th>2241</th>\n",
       "      <td>GALVESTON-SB</td>\n",
       "      <td>gulf</td>\n",
       "      <td>TX</td>\n",
       "      <td>South - TX</td>\n",
       "    </tr>\n",
       "  </tbody>\n",
       "</table>\n",
       "<p>281 rows × 4 columns</p>\n",
       "</div>"
      ],
      "text/plain": [
       "             county region state_ab        sub_region\n",
       "113        ANDERSON   gulf       TX  Haynesville - TX\n",
       "114         ANDREWS   gulf       TX         West - TX\n",
       "115        ANGELINA   gulf       TX  Haynesville - TX\n",
       "116         ARANSAS   gulf       TX        South - TX\n",
       "117          ARCHER   gulf       TX      Central - TX\n",
       "...             ...    ...      ...               ...\n",
       "2237  MUSTANG IS-LB   gulf       TX        South - TX\n",
       "2238  MUSTANG IS-SB   gulf       TX        South - TX\n",
       "2239  N PADRE IS-LB   gulf       TX        South - TX\n",
       "2240  S PADRE IS-LB   gulf       TX        South - TX\n",
       "2241   GALVESTON-SB   gulf       TX        South - TX\n",
       "\n",
       "[281 rows x 4 columns]"
      ]
     },
     "execution_count": 20,
     "metadata": {},
     "output_type": "execute_result"
    }
   ],
   "source": [
    "region_df[region_df['state_ab']=='TX']"
   ]
  },
  {
   "cell_type": "markdown",
   "id": "dfe47fd1",
   "metadata": {},
   "source": [
    "##### /frac_crews"
   ]
  },
  {
   "cell_type": "code",
   "execution_count": 21,
   "id": "9fe4db35",
   "metadata": {},
   "outputs": [
    {
     "name": "stderr",
     "output_type": "stream",
     "text": [
      "INFO:synmax.common.api_client:Payload data: ApiPayload(state_code='TX', start_date='2022-05-1', end_date='2022-06-25', pagination_start=0, production_month=0)\n",
      "Querying API https://hyperion.api.synmax.com//fraccrews pages:   0%|                            | 0/15 [00:00<?, ?it/s]INFO:synmax.common.api_client:Total data size: 7249, total pages to scan: 15\n",
      "Querying API https://hyperion.api.synmax.com//fraccrews pages: 100%|███████████████████| 15/15 [00:17<00:00,  1.19s/it]\n",
      "INFO:synmax.common.api_client:Total response data: 7249\n"
     ]
    },
    {
     "data": {
      "text/html": [
       "<div>\n",
       "<style scoped>\n",
       "    .dataframe tbody tr th:only-of-type {\n",
       "        vertical-align: middle;\n",
       "    }\n",
       "\n",
       "    .dataframe tbody tr th {\n",
       "        vertical-align: top;\n",
       "    }\n",
       "\n",
       "    .dataframe thead th {\n",
       "        text-align: right;\n",
       "    }\n",
       "</style>\n",
       "<table border=\"1\" class=\"dataframe\">\n",
       "  <thead>\n",
       "    <tr style=\"text-align: right;\">\n",
       "      <th></th>\n",
       "      <th>county</th>\n",
       "      <th>date</th>\n",
       "      <th>lat</th>\n",
       "      <th>long</th>\n",
       "      <th>operator_name</th>\n",
       "      <th>region</th>\n",
       "      <th>state_ab</th>\n",
       "      <th>sub_region</th>\n",
       "      <th>wellpad_id</th>\n",
       "    </tr>\n",
       "  </thead>\n",
       "  <tbody>\n",
       "    <tr>\n",
       "      <th>0</th>\n",
       "      <td>CULBERSON</td>\n",
       "      <td>2022-06-07</td>\n",
       "      <td>31.852757</td>\n",
       "      <td>-104.083177</td>\n",
       "      <td>CHEVRON USA INC</td>\n",
       "      <td>gulf</td>\n",
       "      <td>TX</td>\n",
       "      <td>West - TX</td>\n",
       "      <td>12824</td>\n",
       "    </tr>\n",
       "    <tr>\n",
       "      <th>1</th>\n",
       "      <td>CULBERSON</td>\n",
       "      <td>2022-06-08</td>\n",
       "      <td>31.852757</td>\n",
       "      <td>-104.083177</td>\n",
       "      <td>CHEVRON USA INC</td>\n",
       "      <td>gulf</td>\n",
       "      <td>TX</td>\n",
       "      <td>West - TX</td>\n",
       "      <td>12824</td>\n",
       "    </tr>\n",
       "    <tr>\n",
       "      <th>2</th>\n",
       "      <td>CULBERSON</td>\n",
       "      <td>2022-06-09</td>\n",
       "      <td>31.852757</td>\n",
       "      <td>-104.083177</td>\n",
       "      <td>CHEVRON USA INC</td>\n",
       "      <td>gulf</td>\n",
       "      <td>TX</td>\n",
       "      <td>West - TX</td>\n",
       "      <td>12824</td>\n",
       "    </tr>\n",
       "    <tr>\n",
       "      <th>3</th>\n",
       "      <td>CULBERSON</td>\n",
       "      <td>2022-06-10</td>\n",
       "      <td>31.852757</td>\n",
       "      <td>-104.083177</td>\n",
       "      <td>CHEVRON USA INC</td>\n",
       "      <td>gulf</td>\n",
       "      <td>TX</td>\n",
       "      <td>West - TX</td>\n",
       "      <td>12824</td>\n",
       "    </tr>\n",
       "    <tr>\n",
       "      <th>4</th>\n",
       "      <td>CULBERSON</td>\n",
       "      <td>2022-06-11</td>\n",
       "      <td>31.852757</td>\n",
       "      <td>-104.083177</td>\n",
       "      <td>CHEVRON USA INC</td>\n",
       "      <td>gulf</td>\n",
       "      <td>TX</td>\n",
       "      <td>West - TX</td>\n",
       "      <td>12824</td>\n",
       "    </tr>\n",
       "  </tbody>\n",
       "</table>\n",
       "</div>"
      ],
      "text/plain": [
       "      county        date        lat        long    operator_name region  \\\n",
       "0  CULBERSON  2022-06-07  31.852757 -104.083177  CHEVRON USA INC   gulf   \n",
       "1  CULBERSON  2022-06-08  31.852757 -104.083177  CHEVRON USA INC   gulf   \n",
       "2  CULBERSON  2022-06-09  31.852757 -104.083177  CHEVRON USA INC   gulf   \n",
       "3  CULBERSON  2022-06-10  31.852757 -104.083177  CHEVRON USA INC   gulf   \n",
       "4  CULBERSON  2022-06-11  31.852757 -104.083177  CHEVRON USA INC   gulf   \n",
       "\n",
       "  state_ab sub_region  wellpad_id  \n",
       "0       TX  West - TX       12824  \n",
       "1       TX  West - TX       12824  \n",
       "2       TX  West - TX       12824  \n",
       "3       TX  West - TX       12824  \n",
       "4       TX  West - TX       12824  "
      ]
     },
     "execution_count": 21,
     "metadata": {},
     "output_type": "execute_result"
    }
   ],
   "source": [
    "payload = ApiPayload(start_date='2022-05-1', end_date='2022-06-25', state_code='TX')\n",
    "result_df = client.frac_crews(payload)\n",
    "result_df.head()"
   ]
  },
  {
   "cell_type": "markdown",
   "id": "d167beca",
   "metadata": {},
   "source": [
    "##### /completions"
   ]
  },
  {
   "cell_type": "code",
   "execution_count": 22,
   "id": "81ce74b4",
   "metadata": {},
   "outputs": [
    {
     "name": "stderr",
     "output_type": "stream",
     "text": [
      "INFO:synmax.common.api_client:Payload data: ApiPayload(state_code='LA', start_date='2022-05-1', end_date='2022-06-25', pagination_start=0, production_month=0)\n",
      "Querying API https://hyperion.api.synmax.com//completions pages:   0%|                           | 0/1 [00:00<?, ?it/s]INFO:synmax.common.api_client:Total data size: 28, total pages to scan: 1\n",
      "Querying API https://hyperion.api.synmax.com//completions pages: 100%|██████████████████| 1/1 [00:00<00:00, 174.24it/s]\n",
      "INFO:synmax.common.api_client:Total response data: 28\n"
     ]
    }
   ],
   "source": [
    "payload = ApiPayload(start_date='2022-05-1', end_date='2022-06-25', state_code='LA')\n",
    "completions_df = client.well_completion(payload)"
   ]
  },
  {
   "cell_type": "code",
   "execution_count": 23,
   "id": "315b4f92",
   "metadata": {},
   "outputs": [],
   "source": [
    "completions_df.to_csv('output.csv')"
   ]
  },
  {
   "cell_type": "markdown",
   "id": "fee78f2a",
   "metadata": {},
   "source": [
    "### Bad API key"
   ]
  },
  {
   "cell_type": "code",
   "execution_count": 24,
   "id": "2361a8ad",
   "metadata": {},
   "outputs": [],
   "source": [
    "bad_client = HyperionApiClient(access_token='BAD API KEY')"
   ]
  },
  {
   "cell_type": "code",
   "execution_count": 26,
   "id": "ea80778c",
   "metadata": {},
   "outputs": [
    {
     "name": "stderr",
     "output_type": "stream",
     "text": [
      "INFO:synmax.common.api_client:Payload data: ApiPayload(state_code='LA', start_date='2022-05-1', end_date='2022-06-25', pagination_start=0, production_month=0)\n",
      "Querying API https://hyperion.api.synmax.com//rigs pages: 100%|██████████████████████████| 1/1 [00:00<00:00,  4.06it/s]ERROR:synmax.common.api_client:Your API key is invalid. Please contact eric@synmax.com for license key\n",
      "Querying API https://hyperion.api.synmax.com//rigs pages: 100%|██████████████████████████| 1/1 [00:00<00:00,  3.94it/s]\n"
     ]
    },
    {
     "data": {
      "text/html": [
       "<div>\n",
       "<style scoped>\n",
       "    .dataframe tbody tr th:only-of-type {\n",
       "        vertical-align: middle;\n",
       "    }\n",
       "\n",
       "    .dataframe tbody tr th {\n",
       "        vertical-align: top;\n",
       "    }\n",
       "\n",
       "    .dataframe thead th {\n",
       "        text-align: right;\n",
       "    }\n",
       "</style>\n",
       "<table border=\"1\" class=\"dataframe\">\n",
       "  <thead>\n",
       "    <tr style=\"text-align: right;\">\n",
       "      <th></th>\n",
       "    </tr>\n",
       "  </thead>\n",
       "  <tbody>\n",
       "  </tbody>\n",
       "</table>\n",
       "</div>"
      ],
      "text/plain": [
       "Empty DataFrame\n",
       "Columns: []\n",
       "Index: []"
      ]
     },
     "execution_count": 26,
     "metadata": {},
     "output_type": "execute_result"
    }
   ],
   "source": [
    "bad_client.rigs(payload)"
   ]
  },
  {
   "cell_type": "code",
   "execution_count": null,
   "id": "3c8e5e5a",
   "metadata": {},
   "outputs": [],
   "source": []
  }
 ],
 "metadata": {
  "kernelspec": {
   "display_name": "Python 3 (ipykernel)",
   "language": "python",
   "name": "python3"
  },
  "language_info": {
   "codemirror_mode": {
    "name": "ipython",
    "version": 3
   },
   "file_extension": ".py",
   "mimetype": "text/x-python",
   "name": "python",
   "nbconvert_exporter": "python",
   "pygments_lexer": "ipython3",
   "version": "3.9.12"
  }
 },
 "nbformat": 4,
 "nbformat_minor": 5
}
